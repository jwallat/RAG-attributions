{
 "cells": [
  {
   "cell_type": "code",
   "execution_count": 12,
   "metadata": {},
   "outputs": [
    {
     "ename": "EOFError",
     "evalue": "Ran out of input",
     "output_type": "error",
     "traceback": [
      "\u001b[0;31m---------------------------------------------------------------------------\u001b[0m",
      "\u001b[0;31mEOFError\u001b[0m                                  Traceback (most recent call last)",
      "Cell \u001b[0;32mIn[12], line 3\u001b[0m\n\u001b[1;32m      1\u001b[0m \u001b[38;5;28;01mimport\u001b[39;00m \u001b[38;5;21;01mtorch\u001b[39;00m\n\u001b[0;32m----> 3\u001b[0m split_docs \u001b[38;5;241m=\u001b[39m \u001b[43mtorch\u001b[49m\u001b[38;5;241;43m.\u001b[39;49m\u001b[43mload\u001b[49m\u001b[43m(\u001b[49m\u001b[38;5;124;43m\"\u001b[39;49m\u001b[38;5;124;43m/home/wallat/RAG/data/faiss/wiki/split_docs.pt\u001b[39;49m\u001b[38;5;124;43m\"\u001b[39;49m\u001b[43m)\u001b[49m\n\u001b[1;32m      5\u001b[0m \u001b[38;5;28mprint\u001b[39m(split_docs[\u001b[38;5;241m0\u001b[39m]\u001b[38;5;241m.\u001b[39mpage_content)\n",
      "File \u001b[0;32m~/.conda/envs/bergen/lib/python3.10/site-packages/torch/serialization.py:1040\u001b[0m, in \u001b[0;36mload\u001b[0;34m(f, map_location, pickle_module, weights_only, mmap, **pickle_load_args)\u001b[0m\n\u001b[1;32m   1038\u001b[0m     \u001b[38;5;28;01mexcept\u001b[39;00m \u001b[38;5;167;01mRuntimeError\u001b[39;00m \u001b[38;5;28;01mas\u001b[39;00m e:\n\u001b[1;32m   1039\u001b[0m         \u001b[38;5;28;01mraise\u001b[39;00m pickle\u001b[38;5;241m.\u001b[39mUnpicklingError(UNSAFE_MESSAGE \u001b[38;5;241m+\u001b[39m \u001b[38;5;28mstr\u001b[39m(e)) \u001b[38;5;28;01mfrom\u001b[39;00m \u001b[38;5;28;01mNone\u001b[39;00m\n\u001b[0;32m-> 1040\u001b[0m \u001b[38;5;28;01mreturn\u001b[39;00m \u001b[43m_legacy_load\u001b[49m\u001b[43m(\u001b[49m\u001b[43mopened_file\u001b[49m\u001b[43m,\u001b[49m\u001b[43m \u001b[49m\u001b[43mmap_location\u001b[49m\u001b[43m,\u001b[49m\u001b[43m \u001b[49m\u001b[43mpickle_module\u001b[49m\u001b[43m,\u001b[49m\u001b[43m \u001b[49m\u001b[38;5;241;43m*\u001b[39;49m\u001b[38;5;241;43m*\u001b[39;49m\u001b[43mpickle_load_args\u001b[49m\u001b[43m)\u001b[49m\n",
      "File \u001b[0;32m~/.conda/envs/bergen/lib/python3.10/site-packages/torch/serialization.py:1262\u001b[0m, in \u001b[0;36m_legacy_load\u001b[0;34m(f, map_location, pickle_module, **pickle_load_args)\u001b[0m\n\u001b[1;32m   1256\u001b[0m \u001b[38;5;28;01mif\u001b[39;00m \u001b[38;5;129;01mnot\u001b[39;00m \u001b[38;5;28mhasattr\u001b[39m(f, \u001b[38;5;124m'\u001b[39m\u001b[38;5;124mreadinto\u001b[39m\u001b[38;5;124m'\u001b[39m) \u001b[38;5;129;01mand\u001b[39;00m (\u001b[38;5;241m3\u001b[39m, \u001b[38;5;241m8\u001b[39m, \u001b[38;5;241m0\u001b[39m) \u001b[38;5;241m<\u001b[39m\u001b[38;5;241m=\u001b[39m sys\u001b[38;5;241m.\u001b[39mversion_info \u001b[38;5;241m<\u001b[39m (\u001b[38;5;241m3\u001b[39m, \u001b[38;5;241m8\u001b[39m, \u001b[38;5;241m2\u001b[39m):\n\u001b[1;32m   1257\u001b[0m     \u001b[38;5;28;01mraise\u001b[39;00m \u001b[38;5;167;01mRuntimeError\u001b[39;00m(\n\u001b[1;32m   1258\u001b[0m         \u001b[38;5;124m\"\u001b[39m\u001b[38;5;124mtorch.load does not work with file-like objects that do not implement readinto on Python 3.8.0 and 3.8.1. \u001b[39m\u001b[38;5;124m\"\u001b[39m\n\u001b[1;32m   1259\u001b[0m         \u001b[38;5;124mf\u001b[39m\u001b[38;5;124m\"\u001b[39m\u001b[38;5;124mReceived object of type \u001b[39m\u001b[38;5;130;01m\\\"\u001b[39;00m\u001b[38;5;132;01m{\u001b[39;00m\u001b[38;5;28mtype\u001b[39m(f)\u001b[38;5;132;01m}\u001b[39;00m\u001b[38;5;130;01m\\\"\u001b[39;00m\u001b[38;5;124m. Please update to Python 3.8.2 or newer to restore this \u001b[39m\u001b[38;5;124m\"\u001b[39m\n\u001b[1;32m   1260\u001b[0m         \u001b[38;5;124m\"\u001b[39m\u001b[38;5;124mfunctionality.\u001b[39m\u001b[38;5;124m\"\u001b[39m)\n\u001b[0;32m-> 1262\u001b[0m magic_number \u001b[38;5;241m=\u001b[39m \u001b[43mpickle_module\u001b[49m\u001b[38;5;241;43m.\u001b[39;49m\u001b[43mload\u001b[49m\u001b[43m(\u001b[49m\u001b[43mf\u001b[49m\u001b[43m,\u001b[49m\u001b[43m \u001b[49m\u001b[38;5;241;43m*\u001b[39;49m\u001b[38;5;241;43m*\u001b[39;49m\u001b[43mpickle_load_args\u001b[49m\u001b[43m)\u001b[49m\n\u001b[1;32m   1263\u001b[0m \u001b[38;5;28;01mif\u001b[39;00m magic_number \u001b[38;5;241m!=\u001b[39m MAGIC_NUMBER:\n\u001b[1;32m   1264\u001b[0m     \u001b[38;5;28;01mraise\u001b[39;00m \u001b[38;5;167;01mRuntimeError\u001b[39;00m(\u001b[38;5;124m\"\u001b[39m\u001b[38;5;124mInvalid magic number; corrupt file?\u001b[39m\u001b[38;5;124m\"\u001b[39m)\n",
      "\u001b[0;31mEOFError\u001b[0m: Ran out of input"
     ]
    }
   ],
   "source": [
    "import torch\n",
    "\n",
    "split_docs = torch.load(\"/home/wallat/RAG/data/faiss/wiki/split_docs.pt\")\n",
    "\n",
    "print(split_docs[0].page_content)\n"
   ]
  },
  {
   "cell_type": "code",
   "execution_count": 2,
   "metadata": {},
   "outputs": [
    {
     "data": {
      "text/plain": [
       "258"
      ]
     },
     "execution_count": 2,
     "metadata": {},
     "output_type": "execute_result"
    }
   ],
   "source": [
    "len(split_docs)"
   ]
  },
  {
   "cell_type": "code",
   "execution_count": 4,
   "metadata": {},
   "outputs": [
    {
     "ename": "NameError",
     "evalue": "name 'split_docs' is not defined",
     "output_type": "error",
     "traceback": [
      "\u001b[0;31m---------------------------------------------------------------------------\u001b[0m",
      "\u001b[0;31mNameError\u001b[0m                                 Traceback (most recent call last)",
      "Cell \u001b[0;32mIn[4], line 5\u001b[0m\n\u001b[1;32m      2\u001b[0m \u001b[38;5;28;01mimport\u001b[39;00m \u001b[38;5;21;01mjson\u001b[39;00m\n\u001b[1;32m      4\u001b[0m \u001b[38;5;28;01mwith\u001b[39;00m \u001b[38;5;28mopen\u001b[39m(\u001b[38;5;124m\"\u001b[39m\u001b[38;5;124m/home/wallat/RAG/data/faiss/wiki/pyserini/split_docs.jsonl\u001b[39m\u001b[38;5;124m\"\u001b[39m, \u001b[38;5;124m\"\u001b[39m\u001b[38;5;124mw\u001b[39m\u001b[38;5;124m\"\u001b[39m) \u001b[38;5;28;01mas\u001b[39;00m f:\n\u001b[0;32m----> 5\u001b[0m     \u001b[38;5;28;01mfor\u001b[39;00m i, doc \u001b[38;5;129;01min\u001b[39;00m \u001b[38;5;28menumerate\u001b[39m(\u001b[43msplit_docs\u001b[49m):\n\u001b[1;32m      6\u001b[0m         \u001b[38;5;66;03m# print(doc)\u001b[39;00m\n\u001b[1;32m      7\u001b[0m         \u001b[38;5;66;03m# item = {\"id\": f\"doc{i}\", \"contents\": doc.page_content}\u001b[39;00m\n\u001b[1;32m      8\u001b[0m         f\u001b[38;5;241m.\u001b[39mwrite(json\u001b[38;5;241m.\u001b[39mdumps({\u001b[38;5;124m\"\u001b[39m\u001b[38;5;124mid\u001b[39m\u001b[38;5;124m\"\u001b[39m: \u001b[38;5;124mf\u001b[39m\u001b[38;5;124m\"\u001b[39m\u001b[38;5;124mdoc\u001b[39m\u001b[38;5;132;01m{\u001b[39;00mi\u001b[38;5;132;01m}\u001b[39;00m\u001b[38;5;124m\"\u001b[39m, \u001b[38;5;124m\"\u001b[39m\u001b[38;5;124mcontents\u001b[39m\u001b[38;5;124m\"\u001b[39m: doc\u001b[38;5;241m.\u001b[39mpage_content, \u001b[38;5;124m\"\u001b[39m\u001b[38;5;124mmetadata\u001b[39m\u001b[38;5;124m\"\u001b[39m: doc\u001b[38;5;241m.\u001b[39mmetadata}) \u001b[38;5;241m+\u001b[39m \u001b[38;5;124m\"\u001b[39m\u001b[38;5;130;01m\\n\u001b[39;00m\u001b[38;5;124m\"\u001b[39m)\n",
      "\u001b[0;31mNameError\u001b[0m: name 'split_docs' is not defined"
     ]
    }
   ],
   "source": [
    "# Write jsonlines file of the documents\n",
    "import json\n",
    "\n",
    "with open(\"/home/wallat/RAG/data/faiss/wiki/pyserini/split_docs.jsonl\", \"w\") as f:\n",
    "    for i, doc in enumerate(split_docs):\n",
    "        # print(doc)\n",
    "        # item = {\"id\": f\"doc{i}\", \"contents\": doc.page_content}\n",
    "        f.write(json.dumps({\"id\": f\"doc{i}\", \"contents\": doc.page_content, \"metadata\": doc.metadata}) + \"\\n\")"
   ]
  },
  {
   "cell_type": "code",
   "execution_count": 2,
   "metadata": {},
   "outputs": [
    {
     "name": "stdout",
     "output_type": "stream",
     "text": [
      "2024-08-16 12:14:25,954 INFO  [main] index.AbstractIndexer (AbstractIndexer.java:204) - Setting log level to INFO\n",
      "2024-08-16 12:14:25,957 INFO  [main] index.AbstractIndexer (AbstractIndexer.java:207) - ============ Loading Index Configuration ============\n",
      "2024-08-16 12:14:25,957 INFO  [main] index.AbstractIndexer (AbstractIndexer.java:208) - AbstractIndexer settings:\n",
      "2024-08-16 12:14:25,957 INFO  [main] index.AbstractIndexer (AbstractIndexer.java:209) -  + DocumentCollection path: /home/wallat/RAG/data/faiss/wiki/pyserini/\n",
      "2024-08-16 12:14:25,958 INFO  [main] index.AbstractIndexer (AbstractIndexer.java:210) -  + CollectionClass: JsonCollection\n",
      "2024-08-16 12:14:25,958 INFO  [main] index.AbstractIndexer (AbstractIndexer.java:211) -  + Index path: sample_collection_jsonl\n",
      "2024-08-16 12:14:25,958 INFO  [main] index.AbstractIndexer (AbstractIndexer.java:212) -  + Threads: 1\n",
      "2024-08-16 12:14:25,958 INFO  [main] index.AbstractIndexer (AbstractIndexer.java:213) -  + Optimize (merge segments)? false\n",
      "Aug 16, 2024 12:14:25 PM org.apache.lucene.store.MemorySegmentIndexInputProvider <init>\n",
      "INFO: Using MemorySegmentIndexInput with Java 21; to disable start with -Dorg.apache.lucene.store.MMapDirectory.enableMemorySegments=false\n",
      "2024-08-16 12:14:25,985 INFO  [main] index.IndexCollection (IndexCollection.java:246) - Using DefaultEnglishAnalyzer\n",
      "2024-08-16 12:14:25,985 INFO  [main] index.IndexCollection (IndexCollection.java:247) - Stemmer: porter\n",
      "2024-08-16 12:14:25,985 INFO  [main] index.IndexCollection (IndexCollection.java:248) - Keep stopwords? false\n",
      "2024-08-16 12:14:25,985 INFO  [main] index.IndexCollection (IndexCollection.java:249) - Stopwords file: null\n",
      "2024-08-16 12:14:26,071 INFO  [main] index.IndexCollection (IndexCollection.java:197) - IndexCollection settings:\n",
      "2024-08-16 12:14:26,071 INFO  [main] index.IndexCollection (IndexCollection.java:198) -  + Generator: DefaultLuceneDocumentGenerator\n",
      "2024-08-16 12:14:26,071 INFO  [main] index.IndexCollection (IndexCollection.java:199) -  + Language: en\n",
      "2024-08-16 12:14:26,071 INFO  [main] index.IndexCollection (IndexCollection.java:200) -  + Stemmer: porter\n",
      "2024-08-16 12:14:26,072 INFO  [main] index.IndexCollection (IndexCollection.java:201) -  + Keep stopwords? false\n",
      "2024-08-16 12:14:26,072 INFO  [main] index.IndexCollection (IndexCollection.java:202) -  + Stopwords: null\n",
      "2024-08-16 12:14:26,072 INFO  [main] index.IndexCollection (IndexCollection.java:203) -  + Store positions? false\n",
      "2024-08-16 12:14:26,072 INFO  [main] index.IndexCollection (IndexCollection.java:204) -  + Store docvectors? false\n",
      "2024-08-16 12:14:26,072 INFO  [main] index.IndexCollection (IndexCollection.java:205) -  + Store document \"contents\" field? false\n",
      "2024-08-16 12:14:26,073 INFO  [main] index.IndexCollection (IndexCollection.java:206) -  + Store document \"raw\" field? true\n",
      "2024-08-16 12:14:26,073 INFO  [main] index.IndexCollection (IndexCollection.java:207) -  + Additional fields to index: []\n",
      "2024-08-16 12:14:26,073 INFO  [main] index.IndexCollection (IndexCollection.java:208) -  + Whitelist: null\n",
      "2024-08-16 12:14:26,073 INFO  [main] index.IndexCollection (IndexCollection.java:209) -  + Pretokenized?: false\n",
      "2024-08-16 12:14:26,073 INFO  [main] index.IndexCollection (IndexCollection.java:210) -  + Codec: Lucene99\n",
      "2024-08-16 12:14:26,073 INFO  [main] index.AbstractIndexer (AbstractIndexer.java:237) - ============ Indexing Collection ============\n",
      "2024-08-16 12:14:26,076 INFO  [main] index.AbstractIndexer (AbstractIndexer.java:246) - Thread pool with 1 threads initialized.\n",
      "2024-08-16 12:14:26,076 INFO  [main] index.AbstractIndexer (AbstractIndexer.java:247) - 1 file found in /home/wallat/RAG/data/faiss/wiki/pyserini\n",
      "2024-08-16 12:14:26,076 INFO  [main] index.AbstractIndexer (AbstractIndexer.java:248) - Starting to index...\n",
      "2024-08-16 12:14:26,477 INFO  [main] index.AbstractIndexer (AbstractIndexer.java:306) - Indexing Complete! 258 documents indexed\n",
      "2024-08-16 12:14:26,478 INFO  [main] index.AbstractIndexer (AbstractIndexer.java:307) - ============ Final Counter Values ============\n",
      "2024-08-16 12:14:26,478 INFO  [main] index.AbstractIndexer (AbstractIndexer.java:308) - indexed:              258\n",
      "2024-08-16 12:14:26,478 INFO  [main] index.AbstractIndexer (AbstractIndexer.java:309) - unindexable:            0\n",
      "2024-08-16 12:14:26,478 INFO  [main] index.AbstractIndexer (AbstractIndexer.java:310) - empty:                  0\n",
      "2024-08-16 12:14:26,478 INFO  [main] index.AbstractIndexer (AbstractIndexer.java:311) - skipped:                0\n",
      "2024-08-16 12:14:26,478 INFO  [main] index.AbstractIndexer (AbstractIndexer.java:312) - errors:                 0\n",
      "2024-08-16 12:14:26,482 INFO  [main] index.AbstractIndexer (AbstractIndexer.java:315) - Total 258 documents indexed in 00:00:00\n"
     ]
    }
   ],
   "source": [
    "# !python -m pyserini.index.lucene  --collection JsonCollection \\  \n",
    "#    --input /home/wallat/RAG/data/faiss/wiki/pyserini/ \\\n",
    "#    --index sample_collection_jsonl \\\n",
    "#    --generator DefaultLuceneDocumentGenerator \\\n",
    "#    --threads 1 \\\n",
    "#    --storeRaw"
   ]
  },
  {
   "cell_type": "code",
   "execution_count": 8,
   "metadata": {},
   "outputs": [
    {
     "name": "stdout",
     "output_type": "stream",
     "text": [
      " 1 doc30642159 8.01470\n",
      "Hannover Bismarckstraße station\n",
      " Hannover Messe/Laatzen - Hildesheim\"\n",
      "BULLET::::- Hannover S-Bahn services \"Hannover Airport - Langenhagen - Hannover - Weetzen - Hameln - Paderborn\"\n",
      "BULLET::::- Hannover S-Bahn services \"Hannover Airport - Langenhagen - Hannover - Hannover Messe/Laatzen\"\n",
      "\n",
      " 2 doc43581382 7.99590\n",
      "Hannover Hauptbahnhof\n",
      " Hannover Messe/Laatzen - Hildesheim\"\n",
      "BULLET::::- Hannover S-Bahn services \"Hannover Airport - Langenhagen - Hannover - Weetzen - Hameln - Paderborn\"\n",
      "BULLET::::- Hannover S-Bahn services \"Hannover - Celle\"\n",
      "BULLET::::- Hannover S-Bahn services \"Hannover - Lehrte - Celle\"\n",
      "BULLET\n",
      " 3 doc43581381 7.92880\n",
      "Hannover Hauptbahnhof\n",
      " Wunstorf - Hannover - Weetzen - Haste\"\n",
      "BULLET::::- Hannover S-Bahn services \"Nienburg - Wunstorf - Hannover - Weetzen - Haste\"\n",
      "BULLET::::- Hannover S-Bahn services \"Hannover - Lehrte - Hildesheim\"\n",
      "BULLET::::- Hannover S-Bahn services \"Bennemühlen - Langenhagen - Hannover -\n",
      " 4 doc5152077 7.90810\n",
      "List of aircraft (H-He)\n",
      "\n",
      "BULLET::::- Hannaford Bee\n",
      "Section::::H - He.:Hannover.\n",
      "BULLET::::- Hannover C.I\n",
      "BULLET::::- Hannover CL.II\n",
      "BULLET::::- Hannover CL.III\n",
      "BULLET::::- Hannover CL.IV\n",
      "BULLET::::- Hannover CL.V\n",
      "BULLET::::- Hannover F.3\n",
      "BULLET::::- Hannover F.10\n",
      "Section\n",
      " 5 doc3716327 7.90120\n",
      "Hannover (disambiguation)\n",
      "Hannover (disambiguation)\n",
      "Hannover is a German city.\n",
      "Hannover may also refer to: \n",
      "BULLET::::- Hannover (aircraft), airplanes produced by Hannoversche Waggonfabrik\n",
      "BULLET::::- Hannover Re, an insurance company based in Hanover, Germany\n",
      "BULLET::::- Hannover Airport, Hanover's international airport\n",
      "BULLET::::- Hannover Hauptbahnhof, Han\n"
     ]
    }
   ],
   "source": [
    "from pyserini.search.lucene import LuceneSearcher\n",
    "import json\n",
    "\n",
    "searcher = LuceneSearcher('/home/wallat/RAG/data/faiss/wiki/pyserini/wikipedia-kilt')\n",
    "hits = searcher.search('Hannover', k=5)\n",
    "\n",
    "for i in range(len(hits)):\n",
    "    print(f'{i+1:2} {hits[i].docid:4} {hits[i].score:.5f}')\n",
    "    full_doc = searcher.doc(hits[i].docid)\n",
    "    print(json.loads(full_doc.raw())['contents'])\n",
    "\n",
    "    # print(hits[0].keys())"
   ]
  }
 ],
 "metadata": {
  "kernelspec": {
   "display_name": "RAG",
   "language": "python",
   "name": "python3"
  },
  "language_info": {
   "codemirror_mode": {
    "name": "ipython",
    "version": 3
   },
   "file_extension": ".py",
   "mimetype": "text/x-python",
   "name": "python",
   "nbconvert_exporter": "python",
   "pygments_lexer": "ipython3",
   "version": "3.10.14"
  }
 },
 "nbformat": 4,
 "nbformat_minor": 2
}
